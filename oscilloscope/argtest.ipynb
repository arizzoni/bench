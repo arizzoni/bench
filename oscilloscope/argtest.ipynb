{
 "cells": [
  {
   "cell_type": "code",
   "execution_count": 1,
   "id": "93763eea-f02d-493d-bcbc-f1473b326702",
   "metadata": {},
   "outputs": [],
   "source": [
    "\n",
    "\n",
    "\n",
    "\n",
    "\n",
    "def argtest(*positional_arguments, **keyword_arguments) -> None:\n",
    "    print(\"Positional: \", positional_arguments)\n",
    "    print(\"Keyword: \", keyword_arguments)\n",
    "    if 'five' in keyword_arguments:\n",
    "        print('five')\n",
    "        "
   ]
  },
  {
   "cell_type": "code",
   "execution_count": 2,
   "id": "54ae50ef-7990-49ca-b13b-8433cf0a7400",
   "metadata": {},
   "outputs": [
    {
     "name": "stdout",
     "output_type": "stream",
     "text": [
      "Positional:  ('1', '2', '3')\n",
      "Keyword:  {'four': '4', 'five': '5'}\n",
      "five\n"
     ]
    }
   ],
   "source": [
    "argtest('1', '2', '3', four='4', five='5')\n"
   ]
  },
  {
   "cell_type": "code",
   "execution_count": 3,
   "id": "17c7ecd8-4913-4cd3-ac28-6d5aca9b5596",
   "metadata": {},
   "outputs": [
    {
     "name": "stdout",
     "output_type": "stream",
     "text": [
      "Positional:  ()\n",
      "Keyword:  {'four': '4'}\n"
     ]
    }
   ],
   "source": [
    "argtest(four='4')"
   ]
  },
  {
   "cell_type": "code",
   "execution_count": null,
   "id": "6fc53da6-86ba-4489-8060-527808c4c5cb",
   "metadata": {},
   "outputs": [],
   "source": []
  }
 ],
 "metadata": {
  "kernelspec": {
   "display_name": "Python 3 (ipykernel)",
   "language": "python",
   "name": "python3"
  },
  "language_info": {
   "codemirror_mode": {
    "name": "ipython",
    "version": 3
   },
   "file_extension": ".py",
   "mimetype": "text/x-python",
   "name": "python",
   "nbconvert_exporter": "python",
   "pygments_lexer": "ipython3",
   "version": "3.11.5"
  }
 },
 "nbformat": 4,
 "nbformat_minor": 5
}
