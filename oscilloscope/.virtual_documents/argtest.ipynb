




def argtest(*positional_arguments, **keyword_arguments) -> None:
    print("Positional: ", positional_arguments)
    print("Keyword: ", keyword_arguments)
    if 'five' in keyword_arguments:
        print('five')
        


argtest('1', '2', '3', four='4', five='5')



argtest(four='4')



